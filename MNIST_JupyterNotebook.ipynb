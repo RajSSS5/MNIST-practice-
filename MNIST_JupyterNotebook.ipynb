{
 "cells": [
  {
   "cell_type": "markdown",
   "metadata": {},
   "source": [
    "# Imports"
   ]
  },
  {
   "cell_type": "code",
   "execution_count": null,
   "metadata": {},
   "outputs": [],
   "source": [
    "from __future__ import division\n",
    "import matplotlib.pyplot as plt \n",
    "import numpy as np \n",
    "import pandas as pd \n",
    "from sklearn.multiclass import OneVsRestClassifier\n",
    "import sklearn.linear_model\n",
    "from sklearn import svm\n",
    "from sklearn.naive_bayes import GaussianNB\n",
    "from sklearn.tree import DecisionTreeClassifier\n",
    "from sklearn.ensemble import RandomForestClassifier\n",
    "from sklearn import decomposition"
   ]
  },
  {
   "cell_type": "markdown",
   "metadata": {},
   "source": [
    "# Read in CSV and format data"
   ]
  },
  {
   "cell_type": "code",
   "execution_count": null,
   "metadata": {},
   "outputs": [],
   "source": [
    "# Read in values from csv file and load into DataFrame type from pandas\n",
    "print(\"Reading training data\")\n",
    "trainSet = pd.read_csv(r\"Data\\train.csv\")\n",
    "print(\"Done Reading\")\n",
    "\n",
    "y = trainSet.iloc[:,0]\n",
    "X = trainSet.iloc[:,1:]\n",
    "X.head()"
   ]
  },
  {
   "cell_type": "markdown",
   "metadata": {},
   "source": [
    "# PCA Computation for training set"
   ]
  },
  {
   "cell_type": "code",
   "execution_count": null,
   "metadata": {},
   "outputs": [],
   "source": [
    "print(\"PCA comp\")\n",
    "pca = decomposition.PCA(n_components=50)\n",
    "pca.fit(X)\n",
    "X = pca.transform(X)\n",
    "print(\"Done with PCA comp\")\n"
   ]
  },
  {
   "cell_type": "markdown",
   "metadata": {},
   "source": [
    "# Assignment of model and fitting"
   ]
  },
  {
   "cell_type": "code",
   "execution_count": null,
   "metadata": {},
   "outputs": [],
   "source": [
    "print(\"Fitting\")\n",
    "#model = RandomForestClassifier() \n",
    "#model = sklearn.linear_model.LogisticRegression(multi_class='ovr')\n",
    "#model = DecisionTreeClassifier() 70%\n",
    "model = GaussianNB()\n",
    "#model =  svm.SVC(gamma='scale')\n",
    "#model =  svm.LinearSVC()\n",
    "model.fit(X,y)\n",
    "print(\"Done Fitting\")"
   ]
  },
  {
   "cell_type": "markdown",
   "metadata": {},
   "source": [
    "# Reading test data"
   ]
  },
  {
   "cell_type": "code",
   "execution_count": null,
   "metadata": {},
   "outputs": [],
   "source": [
    "print(\"Reading test\")\n",
    "testSet = pd.read_csv(r\"Data\\test.csv\")\n",
    "print(\"Done Reading\")\n",
    "X_test = testSet #.iloc[1:]"
   ]
  },
  {
   "cell_type": "markdown",
   "metadata": {},
   "source": [
    "# PCA Comp for test set"
   ]
  },
  {
   "cell_type": "code",
   "execution_count": null,
   "metadata": {},
   "outputs": [],
   "source": [
    "\n",
    "print(\"PCA comp\")\n",
    "pca = decomposition.PCA(n_components=50)\n",
    "pca.fit(X_test)\n",
    "X_test = pca.transform(X_test)\n",
    "print(\"Done PCA comp\")"
   ]
  },
  {
   "cell_type": "markdown",
   "metadata": {},
   "source": [
    "# Gather predictions"
   ]
  },
  {
   "cell_type": "code",
   "execution_count": null,
   "metadata": {},
   "outputs": [],
   "source": [
    "dataList = []\n",
    "print(\"Predicting\")\n",
    "for item in X_test:\n",
    "        item = np.array(item).reshape(1,-1)\n",
    "        res = model.predict(item)\n",
    "        dataList.append(*res) \n",
    "print(\"Done Predicting\")\n"
   ]
  },
  {
   "cell_type": "markdown",
   "metadata": {},
   "source": [
    " # Turn Predictions into a CSV"
   ]
  },
  {
   "cell_type": "code",
   "execution_count": null,
   "metadata": {},
   "outputs": [],
   "source": [
    "\n",
    "indexList = [i for i in range(1,len(dataList) + 1)]\n",
    "\n",
    "dataDict = {'ImageId': indexList, 'Label': dataList}\n",
    "\n",
    "dataDF = pd.DataFrame.from_dict(dataDict)\n",
    "\n",
    "dataDF.to_csv(path_or_buf=r\"Data\\predictions.csv\",mode='w',index=False)\n",
    "\n"
   ]
  },
  {
   "cell_type": "markdown",
   "metadata": {},
   "source": [
    "# Naive Bayes seems to get the best result vs. time\n",
    "\n",
    "### PCA with 154 components got a result of 0.5417\n",
    "### PCA with 50 cpmponents got a resuly of .50542\n",
    "\n",
    "### Linear SVC  with PCA of 154, took much longer got ~.4\n"
   ]
  },
  {
   "cell_type": "code",
   "execution_count": null,
   "metadata": {},
   "outputs": [],
   "source": []
  }
 ],
 "metadata": {
  "kernelspec": {
   "display_name": "Python 2",
   "language": "python",
   "name": "python2"
  },
  "language_info": {
   "codemirror_mode": {
    "name": "ipython",
    "version": 2
   },
   "file_extension": ".py",
   "mimetype": "text/x-python",
   "name": "python",
   "nbconvert_exporter": "python",
   "pygments_lexer": "ipython2",
   "version": "2.7.15"
  }
 },
 "nbformat": 4,
 "nbformat_minor": 2
}
